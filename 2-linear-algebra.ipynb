{
 "cells": [
  {
   "cell_type": "markdown",
   "id": "45e33eb0",
   "metadata": {},
   "source": [
    "# Linear Algebra\n",
    "\n",
    "- 标量\n",
    "- 向量\n",
    "    - 点乘\n",
    "    - 正交（点乘=0）\n",
    "- 矩阵\n",
    "    - 乘法（空间扭曲）\n",
    "    - 对称（总有特征向量）与反对称\n",
    "    - 正定矩阵\n",
    "    - 正交矩阵\n",
    "    - 置换矩阵\n",
    "    - 特征向量与特征值"
   ]
  },
  {
   "cell_type": "code",
   "execution_count": 1,
   "id": "3b8fb82c",
   "metadata": {},
   "outputs": [
    {
     "name": "stdout",
     "output_type": "stream",
     "text": [
      "tensor([5.])\n",
      "tensor([1.])\n",
      "tensor([6.])\n",
      "tensor([1.5000])\n",
      "tensor([9.])\n"
     ]
    }
   ],
   "source": [
    "import torch\n",
    "\n",
    "x = torch.tensor([3.0])\n",
    "y = torch.tensor([2.0])\n",
    "\n",
    "print(x + y)\n",
    "print(x - y)\n",
    "print(x * y)\n",
    "print(x / y)\n",
    "print(x ** y)"
   ]
  },
  {
   "cell_type": "code",
   "execution_count": 2,
   "id": "b5ecf88f",
   "metadata": {},
   "outputs": [
    {
     "name": "stdout",
     "output_type": "stream",
     "text": [
      "tensor([[ 0,  1,  2,  3],\n",
      "        [ 4,  5,  6,  7],\n",
      "        [ 8,  9, 10, 11],\n",
      "        [12, 13, 14, 15],\n",
      "        [16, 17, 18, 19]])\n"
     ]
    }
   ],
   "source": [
    "matrix = torch.arange(20).reshape(5, 4)\n",
    "print(matrix)"
   ]
  },
  {
   "cell_type": "code",
   "execution_count": 3,
   "id": "d6d33671",
   "metadata": {},
   "outputs": [
    {
     "name": "stdout",
     "output_type": "stream",
     "text": [
      "tensor([[ 0,  4,  8, 12, 16],\n",
      "        [ 1,  5,  9, 13, 17],\n",
      "        [ 2,  6, 10, 14, 18],\n",
      "        [ 3,  7, 11, 15, 19]])\n"
     ]
    }
   ],
   "source": [
    "print(matrix.T)"
   ]
  },
  {
   "cell_type": "code",
   "execution_count": 4,
   "id": "f8038d35",
   "metadata": {},
   "outputs": [
    {
     "name": "stdout",
     "output_type": "stream",
     "text": [
      "tensor([[1, 2, 3],\n",
      "        [2, 0, 4],\n",
      "        [3, 4, 5]])\n",
      "tensor([[True, True, True],\n",
      "        [True, True, True],\n",
      "        [True, True, True]])\n"
     ]
    }
   ],
   "source": [
    "matrix_symmetry = torch.tensor([[1, 2, 3], [2, 0, 4], [3, 4, 5]])\n",
    "print(matrix_symmetry)\n",
    "print(matrix_symmetry == matrix_symmetry.T)"
   ]
  },
  {
   "cell_type": "code",
   "execution_count": 5,
   "id": "f1986180",
   "metadata": {},
   "outputs": [
    {
     "name": "stdout",
     "output_type": "stream",
     "text": [
      "tensor([[[ 0.,  1.,  2.,  3.,  4.],\n",
      "         [ 5.,  6.,  7.,  8.,  9.],\n",
      "         [10., 11., 12., 13., 14.],\n",
      "         [15., 16., 17., 18., 19.]],\n",
      "\n",
      "        [[20., 21., 22., 23., 24.],\n",
      "         [25., 26., 27., 28., 29.],\n",
      "         [30., 31., 32., 33., 34.],\n",
      "         [35., 36., 37., 38., 39.]],\n",
      "\n",
      "        [[40., 41., 42., 43., 44.],\n",
      "         [45., 46., 47., 48., 49.],\n",
      "         [50., 51., 52., 53., 54.],\n",
      "         [55., 56., 57., 58., 59.]]])\n"
     ]
    }
   ],
   "source": [
    "X = torch.arange(60, dtype=torch.float32).reshape(3, 4, 5)\n",
    "# 3 elements\n",
    "# 4 rows\n",
    "# 5 columns\n",
    "print(X)"
   ]
  },
  {
   "cell_type": "code",
   "execution_count": 6,
   "id": "ddae53e2",
   "metadata": {},
   "outputs": [
    {
     "name": "stdout",
     "output_type": "stream",
     "text": [
      "tensor([[ 0.,  1.,  2.,  3.],\n",
      "        [ 4.,  5.,  6.,  7.],\n",
      "        [ 8.,  9., 10., 11.],\n",
      "        [12., 13., 14., 15.],\n",
      "        [16., 17., 18., 19.]])\n",
      "tensor([[ 0.,  1.,  2.,  3.],\n",
      "        [ 4.,  5.,  6.,  7.],\n",
      "        [ 8.,  9., 10., 11.],\n",
      "        [12., 13., 14., 15.],\n",
      "        [16., 17., 18., 19.]])\n",
      "tensor([[ 0.,  2.,  4.,  6.],\n",
      "        [ 8., 10., 12., 14.],\n",
      "        [16., 18., 20., 22.],\n",
      "        [24., 26., 28., 30.],\n",
      "        [32., 34., 36., 38.]])\n"
     ]
    }
   ],
   "source": [
    "A = torch.arange(20, dtype=torch.float32).reshape(5, 4)\n",
    "# allocate new space\n",
    "B = A.clone()\n",
    "print(A)\n",
    "print(B)\n",
    "print(A + B)"
   ]
  },
  {
   "cell_type": "code",
   "execution_count": 7,
   "id": "cf8c7308",
   "metadata": {},
   "outputs": [
    {
     "name": "stdout",
     "output_type": "stream",
     "text": [
      "tensor([[  0.,   1.,   4.,   9.],\n",
      "        [ 16.,  25.,  36.,  49.],\n",
      "        [ 64.,  81., 100., 121.],\n",
      "        [144., 169., 196., 225.],\n",
      "        [256., 289., 324., 361.]])\n"
     ]
    }
   ],
   "source": [
    "# element-product\n",
    "print(A * B)"
   ]
  },
  {
   "cell_type": "code",
   "execution_count": 8,
   "id": "57f708ad",
   "metadata": {},
   "outputs": [
    {
     "name": "stdout",
     "output_type": "stream",
     "text": [
      "tensor([[[ 2.,  3.,  4.,  5.,  6.],\n",
      "         [ 7.,  8.,  9., 10., 11.],\n",
      "         [12., 13., 14., 15., 16.],\n",
      "         [17., 18., 19., 20., 21.]],\n",
      "\n",
      "        [[22., 23., 24., 25., 26.],\n",
      "         [27., 28., 29., 30., 31.],\n",
      "         [32., 33., 34., 35., 36.],\n",
      "         [37., 38., 39., 40., 41.]],\n",
      "\n",
      "        [[42., 43., 44., 45., 46.],\n",
      "         [47., 48., 49., 50., 51.],\n",
      "         [52., 53., 54., 55., 56.],\n",
      "         [57., 58., 59., 60., 61.]]])\n"
     ]
    }
   ],
   "source": [
    "print(X + 2)"
   ]
  },
  {
   "cell_type": "code",
   "execution_count": 9,
   "id": "10ee501e",
   "metadata": {},
   "outputs": [
    {
     "name": "stdout",
     "output_type": "stream",
     "text": [
      "tensor(1770.)\n",
      "torch.Size([3, 4, 5])\n"
     ]
    }
   ],
   "source": [
    "print(X.sum())\n",
    "print(X.shape)"
   ]
  },
  {
   "cell_type": "code",
   "execution_count": 10,
   "id": "ab11ef4c",
   "metadata": {},
   "outputs": [
    {
     "name": "stdout",
     "output_type": "stream",
     "text": [
      "tensor([[ 60.,  63.,  66.,  69.,  72.],\n",
      "        [ 75.,  78.,  81.,  84.,  87.],\n",
      "        [ 90.,  93.,  96.,  99., 102.],\n",
      "        [105., 108., 111., 114., 117.]])\n",
      "torch.Size([4, 5])\n"
     ]
    }
   ],
   "source": [
    "X_sum_0 = X.sum(axis=0)\n",
    "print(X_sum_0)\n",
    "print(X_sum_0.shape)"
   ]
  },
  {
   "cell_type": "code",
   "execution_count": 11,
   "id": "4abb5bbc",
   "metadata": {},
   "outputs": [
    {
     "name": "stdout",
     "output_type": "stream",
     "text": [
      "tensor([[ 30.,  34.,  38.,  42.,  46.],\n",
      "        [110., 114., 118., 122., 126.],\n",
      "        [190., 194., 198., 202., 206.]])\n",
      "torch.Size([3, 5])\n"
     ]
    }
   ],
   "source": [
    "X_sum_1 = X.sum(axis=1)\n",
    "print(X_sum_1)\n",
    "print(X_sum_1.shape)"
   ]
  },
  {
   "cell_type": "code",
   "execution_count": 12,
   "id": "ff4628f7",
   "metadata": {},
   "outputs": [
    {
     "name": "stdout",
     "output_type": "stream",
     "text": [
      "tensor([[ 10.,  35.,  60.,  85.],\n",
      "        [110., 135., 160., 185.],\n",
      "        [210., 235., 260., 285.]])\n",
      "torch.Size([3, 4])\n"
     ]
    }
   ],
   "source": [
    "X_sum_2 = X.sum(axis=2)\n",
    "print(X_sum_2)\n",
    "print(X_sum_2.shape)"
   ]
  },
  {
   "cell_type": "code",
   "execution_count": 13,
   "id": "a04af339",
   "metadata": {},
   "outputs": [
    {
     "name": "stdout",
     "output_type": "stream",
     "text": [
      "tensor([330., 342., 354., 366., 378.])\n",
      "torch.Size([5])\n"
     ]
    }
   ],
   "source": [
    "X_sum_01 = X.sum(axis=[0, 1])\n",
    "print(X_sum_01)\n",
    "print(X_sum_01.shape)"
   ]
  },
  {
   "cell_type": "code",
   "execution_count": 14,
   "id": "45fdbe92",
   "metadata": {},
   "outputs": [
    {
     "name": "stdout",
     "output_type": "stream",
     "text": [
      "tensor(29.5000)\n",
      "tensor(29.5000)\n"
     ]
    }
   ],
   "source": [
    "print(X.mean())\n",
    "print(X.sum() / X.numel())"
   ]
  },
  {
   "cell_type": "code",
   "execution_count": 15,
   "id": "2abc2e37",
   "metadata": {},
   "outputs": [
    {
     "name": "stdout",
     "output_type": "stream",
     "text": [
      "tensor([[ 6.],\n",
      "        [22.],\n",
      "        [38.],\n",
      "        [54.],\n",
      "        [70.]])\n"
     ]
    }
   ],
   "source": [
    "A_sum_1 = A.sum(axis=1, keepdims=True)\n",
    "print(A_sum_1)"
   ]
  },
  {
   "cell_type": "code",
   "execution_count": 16,
   "id": "bae6fc8b",
   "metadata": {},
   "outputs": [
    {
     "name": "stdout",
     "output_type": "stream",
     "text": [
      "tensor([[0.0000, 0.1667, 0.3333, 0.5000],\n",
      "        [0.1818, 0.2273, 0.2727, 0.3182],\n",
      "        [0.2105, 0.2368, 0.2632, 0.2895],\n",
      "        [0.2222, 0.2407, 0.2593, 0.2778],\n",
      "        [0.2286, 0.2429, 0.2571, 0.2714]])\n"
     ]
    }
   ],
   "source": [
    "print(A / A_sum_1)"
   ]
  },
  {
   "cell_type": "code",
   "execution_count": 17,
   "id": "c005c103",
   "metadata": {},
   "outputs": [
    {
     "name": "stdout",
     "output_type": "stream",
     "text": [
      "tensor([[ 0.,  1.,  2.,  3.],\n",
      "        [ 4.,  6.,  8., 10.],\n",
      "        [12., 15., 18., 21.],\n",
      "        [24., 28., 32., 36.],\n",
      "        [40., 45., 50., 55.]])\n"
     ]
    }
   ],
   "source": [
    "print(A.cumsum(axis=0))\n",
    "# 累加"
   ]
  },
  {
   "cell_type": "code",
   "execution_count": 20,
   "id": "845de796",
   "metadata": {},
   "outputs": [
    {
     "name": "stdout",
     "output_type": "stream",
     "text": [
      "tensor([1., 1., 1., 1.])\n",
      "tensor([0., 1., 2., 3.])\n",
      "tensor(6.)\n",
      "tensor(6.)\n"
     ]
    }
   ],
   "source": [
    "a = torch.ones(4, dtype=torch.float32)\n",
    "b = torch.tensor([0., 1, 2, 3])\n",
    "print(a)\n",
    "print(b)\n",
    "# product by element\n",
    "# sum all results\n",
    "# scalar quantity\n",
    "print(torch.dot(a, b))\n",
    "print(torch.sum(a * b))"
   ]
  },
  {
   "cell_type": "code",
   "execution_count": 24,
   "id": "21f2c7e8",
   "metadata": {},
   "outputs": [
    {
     "name": "stdout",
     "output_type": "stream",
     "text": [
      "torch.Size([5, 4])\n",
      "torch.Size([4])\n",
      "tensor([ 14.,  38.,  62.,  86., 110.])\n"
     ]
    }
   ],
   "source": [
    "print(A.shape)\n",
    "print(b.shape)\n",
    "# matrix and vector multiplication\n",
    "print(torch.mv(A, b))"
   ]
  },
  {
   "cell_type": "code",
   "execution_count": 25,
   "id": "947d6bdc",
   "metadata": {},
   "outputs": [
    {
     "name": "stdout",
     "output_type": "stream",
     "text": [
      "tensor([[ 6.,  6.,  6.],\n",
      "        [22., 22., 22.],\n",
      "        [38., 38., 38.],\n",
      "        [54., 54., 54.],\n",
      "        [70., 70., 70.]])\n"
     ]
    }
   ],
   "source": [
    "B = torch.ones(4, 3)\n",
    "# matrix and matrix multiplication\n",
    "print(torch.mm(A, B))"
   ]
  },
  {
   "cell_type": "code",
   "execution_count": 27,
   "id": "fbe0ecad",
   "metadata": {},
   "outputs": [
    {
     "name": "stdout",
     "output_type": "stream",
     "text": [
      "tensor(5.)\n",
      "tensor(7.)\n"
     ]
    }
   ],
   "source": [
    "vector = torch.tensor([3., -4])\n",
    "# L2 norm\n",
    "print(torch.norm(vector))\n",
    "# L1 norm\n",
    "print(torch.abs(vector).sum())"
   ]
  },
  {
   "cell_type": "code",
   "execution_count": 28,
   "id": "77743d3f",
   "metadata": {},
   "outputs": [
    {
     "name": "stdout",
     "output_type": "stream",
     "text": [
      "tensor(6.)\n"
     ]
    }
   ],
   "source": [
    "# frobenius norm\n",
    "# matrix -> vector -> L2\n",
    "print(torch.norm(torch.ones(4, 9)))"
   ]
  }
 ],
 "metadata": {
  "kernelspec": {
   "display_name": "Python 3 (ipykernel)",
   "language": "python",
   "name": "python3"
  },
  "language_info": {
   "codemirror_mode": {
    "name": "ipython",
    "version": 3
   },
   "file_extension": ".py",
   "mimetype": "text/x-python",
   "name": "python",
   "nbconvert_exporter": "python",
   "pygments_lexer": "ipython3",
   "version": "3.9.9"
  }
 },
 "nbformat": 4,
 "nbformat_minor": 5
}
