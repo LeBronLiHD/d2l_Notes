{
 "cells": [
  {
   "cell_type": "markdown",
   "id": "45e33eb0",
   "metadata": {},
   "source": [
    "# Linear Algebra\n",
    "\n",
    "- 标量\n",
    "- 向量\n",
    "    - 点乘\n",
    "    - 正交（点乘=0）\n",
    "- 矩阵\n",
    "    - 乘法（空间扭曲）\n",
    "    - 对称（总有特征向量）与反对称\n",
    "    - 正定矩阵\n",
    "    - 正交矩阵\n",
    "    - 置换矩阵\n",
    "    - 特征向量与特征值"
   ]
  },
  {
   "cell_type": "code",
   "execution_count": 8,
   "id": "3b8fb82c",
   "metadata": {},
   "outputs": [
    {
     "name": "stdout",
     "output_type": "stream",
     "text": [
      "tensor([5.])\n",
      "tensor([1.])\n",
      "tensor([6.])\n",
      "tensor([1.5000])\n",
      "tensor([9.])\n"
     ]
    }
   ],
   "source": [
    "import torch\n",
    "\n",
    "x = torch.tensor([3.0])\n",
    "y = torch.tensor([2.0])\n",
    "\n",
    "print(x + y)\n",
    "print(x - y)\n",
    "print(x * y)\n",
    "print(x / y)\n",
    "print(x ** y)"
   ]
  },
  {
   "cell_type": "code",
   "execution_count": 11,
   "id": "b5ecf88f",
   "metadata": {},
   "outputs": [
    {
     "name": "stdout",
     "output_type": "stream",
     "text": [
      "tensor([[ 0,  1,  2,  3],\n",
      "        [ 4,  5,  6,  7],\n",
      "        [ 8,  9, 10, 11],\n",
      "        [12, 13, 14, 15],\n",
      "        [16, 17, 18, 19]])\n"
     ]
    }
   ],
   "source": [
    "matrix = torch.arange(20).reshape(5, 4)\n",
    "print(matrix)"
   ]
  },
  {
   "cell_type": "code",
   "execution_count": 12,
   "id": "d6d33671",
   "metadata": {},
   "outputs": [
    {
     "name": "stdout",
     "output_type": "stream",
     "text": [
      "tensor([[ 0,  4,  8, 12, 16],\n",
      "        [ 1,  5,  9, 13, 17],\n",
      "        [ 2,  6, 10, 14, 18],\n",
      "        [ 3,  7, 11, 15, 19]])\n"
     ]
    }
   ],
   "source": [
    "print(matrix.T)"
   ]
  }
 ],
 "metadata": {
  "kernelspec": {
   "display_name": "Python 3 (ipykernel)",
   "language": "python",
   "name": "python3"
  },
  "language_info": {
   "codemirror_mode": {
    "name": "ipython",
    "version": 3
   },
   "file_extension": ".py",
   "mimetype": "text/x-python",
   "name": "python",
   "nbconvert_exporter": "python",
   "pygments_lexer": "ipython3",
   "version": "3.9.9"
  }
 },
 "nbformat": 4,
 "nbformat_minor": 5
}
