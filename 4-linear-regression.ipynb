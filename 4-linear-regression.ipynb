{
 "cells": [
  {
   "cell_type": "markdown",
   "id": "af2cd94e",
   "metadata": {},
   "source": [
    "# 线性回归\n",
    "\n",
    "$$\n",
    "y=w_{1} x_{1}+w_{2} x_{2}+w_{3} x_{3}+b\n",
    "$$\n",
    "\n",
    "$$\n",
    "y=\\langle\\mathbf{w}, \\mathbf{x}\\rangle+b\n",
    "$$\n",
    "\n",
    "- 可以视为一层神经网络\n",
    "- 定义损失函数\n",
    "\n",
    "$$\n",
    "\\ell(y, \\hat{y})=\\frac{1}{2}(y-\\hat{y})^{2}\n",
    "$$\n",
    "\n",
    "- 训练数据\n",
    "\n",
    "$$\n",
    "\\mathbf{X}=\\left[\\mathbf{x}_{1}, \\mathbf{x}_{2}, \\ldots, \\mathbf{x}_{n}\\right]^{T} \\quad \\mathbf{y}=\\left[y_{1}, y_{2}, \\ldots, y_{n}\\right]^{T}\n",
    "$$\n",
    "\n",
    "- 参数学习\n",
    "- 训练损失\n",
    "\n",
    "$$\n",
    "\\ell(\\mathbf{X}, \\mathbf{y}, \\mathbf{w}, b)=\\frac{1}{2 n} \\sum_{i=1}^{n}\\left(y_{i}-\\left\\langle\\mathbf{x}_{i}, \\mathbf{w}\\right\\rangle-b\\right)^{2}=\\frac{1}{2 n}\\|\\mathbf{y}-\\mathbf{X} \\mathbf{w}-b\\|^{2}\n",
    "$$\n",
    "\n",
    "- 最小化损失\n",
    "\n",
    "$$\n",
    "\\mathbf{w}^{*}, \\mathbf{b}^{*}=\\arg \\min _{\\mathbf{w}, b} \\ell(\\mathbf{X}, \\mathbf{y}, \\mathbf{w}, b)\n",
    "$$\n",
    "\n",
    "- 线性回归解析解\n",
    "- 将偏差加入权重\n",
    "\n",
    "$$\n",
    "\\mathbf{X} \\leftarrow[\\mathbf{X}, \\mathbf{1}] \\quad \\mathbf{w} \\leftarrow\\left[\\begin{array}{l}\n",
    "\\mathbf{w} \\\\\n",
    "b\n",
    "\\end{array}\\right]\n",
    "$$\n",
    "\n",
    "$$\n",
    "\\ell(\\mathbf{X}, \\mathbf{y}, \\mathbf{w})=\\frac{1}{2 n}\\|\\mathbf{y}-\\mathbf{X w}\\|^{2} \\frac{\\partial}{\\partial \\mathbf{w}} \\ell(\\mathbf{X}, \\mathbf{y}, \\mathbf{w})=\\frac{1}{n}(\\mathbf{y}-\\mathbf{X w})^{T} \\mathbf{X}\n",
    "$$\n",
    "\n",
    "- 损失是凸函数，最优解为梯度为零处\n",
    "\n",
    "$$\n",
    "\\begin{aligned}\n",
    "& \\frac{\\partial}{\\partial \\mathbf{w}} \\ell(\\mathbf{X}, \\mathbf{y}, \\mathbf{w})=0 \\\\\n",
    "\\Leftrightarrow & \\frac{1}{n}(\\mathbf{y}-\\mathbf{X} \\mathbf{w})^{T} \\mathbf{X}=0 \\\\\n",
    "\\Leftrightarrow & \\mathbf{w}^{*}=\\left(\\mathbf{X}^{T} \\mathbf{X}_{}\\right)^{-1} \\mathbf{X} \\mathbf{y}\n",
    "\\end{aligned}\n",
    "$$\n"
   ]
  },
  {
   "cell_type": "markdown",
   "id": "bf76dfd6",
   "metadata": {},
   "source": [
    "# 基础优化算法"
   ]
  }
 ],
 "metadata": {
  "kernelspec": {
   "display_name": "Python 3 (ipykernel)",
   "language": "python",
   "name": "python3"
  },
  "language_info": {
   "codemirror_mode": {
    "name": "ipython",
    "version": 3
   },
   "file_extension": ".py",
   "mimetype": "text/x-python",
   "name": "python",
   "nbconvert_exporter": "python",
   "pygments_lexer": "ipython3",
   "version": "3.9.9"
  }
 },
 "nbformat": 4,
 "nbformat_minor": 5
}
