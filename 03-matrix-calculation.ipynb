{
 "cells": [
  {
   "cell_type": "markdown",
   "id": "cb099e42",
   "metadata": {},
   "source": [
    "# 矩阵求导\n",
    "\n",
    "### 标量导数\n",
    "\n",
    "- 切线的斜率\n",
    "\n",
    "### 亚导数\n",
    "\n",
    "$$\n",
    "\\frac{\\partial|x|}{\\partial x}= \\begin{cases}1 & \\text { if } x>0 \\\\ -1 & \\text { if } x<0 \\\\ a & \\text { if } x=0, \\quad a \\in[-1,1]\\end{cases}\n",
    "$$\n",
    "\n",
    "$$\n",
    "\\frac{\\partial}{\\partial x} \\max (x, 0)= \\begin{cases}1 & \\text { if } x>0 \\\\ 0 & \\text { if } x<0 \\\\ a & \\text { if } x=0, \\quad a \\in[0,1]\\end{cases}\n",
    "$$\n",
    "\n",
    "### 梯度\n",
    "\n",
    "- 梯度指向“坡度”最大的方向，即值变化最大的方向\n",
    "- 标量与列向量的导数\n",
    "\n",
    "$$\n",
    "\\mathbf{x}=\\left[\\begin{array}{c}\n",
    "x_{1} \\\\\n",
    "x_{2} \\\\\n",
    "\\vdots \\\\\n",
    "x_{n}\n",
    "\\end{array}\\right] \\quad \\frac{\\partial y}{\\partial \\mathbf{x}}=\\left[\\frac{\\partial y}{\\partial x_{1}}, \\frac{\\partial y}{\\partial x_{2}}, \\ldots, \\frac{\\partial y}{\\partial x_{n}}\\right]\n",
    "$$\n",
    "\n",
    "- 列向量与标量的导数\n",
    "\n",
    "$$\n",
    "\\mathbf{y}^{}=\\left[\\begin{array}{c}\n",
    "y_{1} \\\\\n",
    "y_{2} \\\\\n",
    "\\vdots \\\\\n",
    "y_{m}\n",
    "\\end{array}\\right] \\quad \\frac{\\partial \\mathbf{y}}{\\partial x}=\\left[\\begin{array}{c}\n",
    "\\frac{\\partial y_{1}}{\\partial x} \\\\\n",
    "\\frac{\\partial y_{2}}{\\partial x} \\\\\n",
    "\\vdots \\\\\n",
    "\\frac{\\partial y_{m}}{\\partial x}\n",
    "\\end{array}\\right]\n",
    "$$\n",
    "\n",
    "- 列向量与列向量的导数\n",
    "\n",
    "$$\n",
    "\\frac{\\partial \\mathbf{y}}{\\partial \\mathbf{x}}=\\left[\\begin{array}{c}\n",
    "\\frac{\\partial y_{1}}{\\partial \\mathbf{x}} \\\\\n",
    "\\frac{\\partial y_{2}}{\\partial \\mathbf{x}} \\\\\n",
    "\\vdots \\\\\n",
    "\\frac{\\partial y_{m}}{\\partial \\mathbf{x}}\n",
    "\\end{array}\\right]=\\left[\\begin{array}{c}\n",
    "\\frac{\\partial y_{1}}{\\partial x_{1}}, \\frac{\\partial y_{1}}{\\partial x_{2}}, \\ldots, \\frac{\\partial y_{1}}{\\partial x_{n}} \\\\\n",
    "\\frac{\\partial y_{2}}{\\partial x_{1}}, \\frac{\\partial y_{2}}{\\partial x_{2}}, \\ldots, \\frac{\\partial y_{2}}{\\partial x_{n}} \\\\\n",
    "\\vdots \\\\\n",
    "\\frac{\\partial y_{m}}{\\partial x_{1}}, \\frac{\\partial y_{m}}{\\partial x_{2}}, \\ldots, \\frac{\\partial y_{m}}{\\partial x_{n}}\n",
    "\\end{array}\\right]\n",
    "$$\n",
    "\n",
    "$$\n",
    "\\begin{array}{l|llll}\n",
    "\\mathbf{y} & \\mathbf{a} & \\mathbf{x} & \\mathbf{A x} & \\mathbf{x}^{T} \\mathbf{A} \\\\\n",
    "\\hline \\frac{\\partial \\mathbf{y}}{\\partial \\mathbf{x}} & \\mathbf{0} & \\mathbf{I} & \\mathbf{A} & \\mathbf{A}^{T}\n",
    "\\end{array}\n",
    "$$\n",
    "\n",
    "$$\n",
    "\\begin{array}{l|ccc}\n",
    "\\mathbf{y} & a \\mathbf{u} & \\mathbf{A u} & \\mathbf{u}+\\mathbf{v} \\\\\n",
    "\\hline \\frac{\\partial \\mathbf{y}}{\\partial \\mathbf{x}} & a \\frac{\\partial \\mathbf{u}}{\\partial \\mathbf{x}} & \\mathbf{A} \\frac{\\partial \\mathbf{u}}{\\partial \\mathbf{x}} & \\frac{\\partial \\mathbf{u}}{\\partial \\mathbf{x}}+\\frac{\\partial \\mathbf{v}}{\\partial \\mathbf{x}}\n",
    "\\end{array}\n",
    "$$\n"
   ]
  },
  {
   "cell_type": "markdown",
   "id": "e12df43e",
   "metadata": {},
   "source": [
    "# 自动求导\n",
    "\n",
    "### 向量链式法则\n",
    "\n",
    "$$\n",
    "y=f(u), u=g(x) \\quad \\frac{\\partial y}{\\partial x}=\\frac{\\partial y}{\\partial u} \\frac{\\partial u}{\\partial x}\n",
    "$$\n",
    "\n",
    "$$\n",
    "\\frac{\\partial y}{\\partial \\mathbf{x}}=\\frac{\\partial y}{\\partial u} \\frac{\\partial u}{\\partial \\mathbf{x}} \\quad \\frac{\\partial y}{\\partial \\mathbf{x}}=\\frac{\\partial y}{\\partial \\mathbf{u}} \\frac{\\partial \\mathbf{u}}{\\partial \\mathbf{x}} \\quad \\frac{\\partial \\mathbf{y}}{\\partial \\mathbf{x}^{}}=\\frac{\\partial \\mathbf{y}}{\\partial \\mathbf{u}} \\frac{\\partial \\mathbf{u}}{\\partial \\mathbf{x}}\n",
    "$$\n",
    "\n",
    "### 计算图\n",
    "\n",
    "- 将代码分解成操作子\n",
    "- 将计算表示为无环图\n",
    "\n",
    "![img_1](./images/calculation_graph.png)\n",
    "\n",
    "- 显示构造\n",
    "\n",
    "```Python\n",
    "from mxnet import sym\n",
    "\n",
    "a = sym.var()\n",
    "b = sym.var()\n",
    "c = 2 * a + b\n",
    "```\n",
    "\n",
    "- 显示构造\n",
    "\n",
    "```Python\n",
    "from mxnet import autograd, nd\n",
    "\n",
    "with autograd.record():\n",
    "    a = nd.ones((2, 1))\n",
    "    b = nd.ones((2, 1))\n",
    "    c = 2 * a + b\n",
    "```\n",
    "\n",
    "- 链式法则\n",
    "\n",
    "$$\n",
    "\\frac{\\partial y}{\\partial x}=\\frac{\\partial y}{\\partial u_{n}} \\frac{\\partial u_{n}}{\\partial u_{n-1}} \\ldots \\frac{\\partial u_{2}}{\\partial u_{1}} \\frac{\\partial u_{1}}{\\partial x}\n",
    "$$\n",
    "\n",
    "- 正向积累\n",
    "\n",
    "$$\n",
    "\\frac{\\partial y}{\\partial x}=\\frac{\\partial y}{\\partial u_{n}}\\left(\\frac{\\partial u_{n}}{\\partial u_{n-1}}\\left(\\cdots\\left(\\frac{\\partial u_{2}}{\\partial u_{1}} \\frac{\\partial u_{1}}{\\partial x}\\right)\\right)\\right)\n",
    "$$\n",
    "\n",
    "\n",
    "- 反向积累，或称反向传递\n",
    "\n",
    "$$\n",
    "\\frac{\\partial y}{\\partial x}=\\left(\\left(\\left(\\frac{\\partial y}{\\partial u_{n}} \\frac{\\partial u_{n}}{\\partial u_{n-1}}\\right) \\ldots\\right) \\frac{\\partial u_{2}}{\\partial u_{1}}\\right) \\frac{\\partial u_{1}}{\\partial x}\n",
    "$$\n",
    "\n",
    "- 正向积累\n",
    "    - 需要存储所有的中间结果\n",
    "    - 计算复杂度为 $O(n)$\n",
    "    - 内存复杂度为 $O(n)$\n",
    "- 反向积\n",
    "    - 不需要存储中间结果\n",
    "    - 从相反方向执行\n",
    "    - 可以除去不需要的枝\n",
    "    - 计算复杂度为 $O(n)$\n",
    "    - 内存复杂度为 $O(1)$\n",
    "\n",
    "![img_2](./images/upward_downward.png)\n"
   ]
  },
  {
   "cell_type": "code",
   "execution_count": 27,
   "id": "f9ab8a01",
   "metadata": {},
   "outputs": [
    {
     "name": "stdout",
     "output_type": "stream",
     "text": [
      "tensor([0., 1., 2., 3.])\n"
     ]
    }
   ],
   "source": [
    "import torch\n",
    "\n",
    "x = torch.arange(4.0)\n",
    "print(x)"
   ]
  },
  {
   "cell_type": "code",
   "execution_count": 28,
   "id": "2c6569d8",
   "metadata": {},
   "outputs": [
    {
     "name": "stdout",
     "output_type": "stream",
     "text": [
      "None\n"
     ]
    }
   ],
   "source": [
    "# x = torch.arange(4.0, requires_grad=True)\n",
    "x.requires_grad_(True)\n",
    "print(x.grad)"
   ]
  },
  {
   "cell_type": "code",
   "execution_count": 29,
   "id": "92203876",
   "metadata": {},
   "outputs": [
    {
     "name": "stdout",
     "output_type": "stream",
     "text": [
      "tensor(28., grad_fn=<MulBackward0>)\n"
     ]
    }
   ],
   "source": [
    "y = 2 * torch.dot(x, x)\n",
    "print(y)"
   ]
  },
  {
   "cell_type": "code",
   "execution_count": 30,
   "id": "45ef011f",
   "metadata": {},
   "outputs": [
    {
     "name": "stdout",
     "output_type": "stream",
     "text": [
      "tensor([ 0.,  4.,  8., 12.])\n",
      "tensor([True, True, True, True])\n"
     ]
    }
   ],
   "source": [
    "y.backward()\n",
    "print(x.grad)\n",
    "print(4 * x == x.grad)"
   ]
  },
  {
   "cell_type": "code",
   "execution_count": 31,
   "id": "99e23555",
   "metadata": {},
   "outputs": [
    {
     "name": "stdout",
     "output_type": "stream",
     "text": [
      "tensor([1., 1., 1., 1.])\n"
     ]
    }
   ],
   "source": [
    "# 默认情况下，PyTorch会累计梯度，我们需要清除之前的值\n",
    "# '_'代表重写\n",
    "x.grad.zero_()\n",
    "y = x.sum()\n",
    "y.backward()\n",
    "print(x.grad)"
   ]
  },
  {
   "cell_type": "code",
   "execution_count": 33,
   "id": "73ca204d",
   "metadata": {},
   "outputs": [
    {
     "name": "stdout",
     "output_type": "stream",
     "text": [
      "tensor([0., 2., 4., 6.])\n"
     ]
    }
   ],
   "source": [
    "# 非标量调用`backward()`需要传入一个`gradient`参数，该参数指定微分函数\n",
    "x.grad.zero_()\n",
    "y = x * x\n",
    "# y.backward(torch.ones(len(x)))\n",
    "y.sum().backward()\n",
    "print(x.grad)"
   ]
  },
  {
   "cell_type": "code",
   "execution_count": 34,
   "id": "60bf5526",
   "metadata": {},
   "outputs": [
    {
     "name": "stdout",
     "output_type": "stream",
     "text": [
      "tensor([0., 1., 4., 9.])\n",
      "tensor([True, True, True, True])\n"
     ]
    }
   ],
   "source": [
    "x.grad.zero_()\n",
    "y = x * x\n",
    "# 把u当成常数而不是一个关于x的函数\n",
    "u = y.detach()\n",
    "z = u * x\n",
    "\n",
    "z.sum().backward()\n",
    "print(x.grad)\n",
    "print(x.grad == u)"
   ]
  },
  {
   "cell_type": "code",
   "execution_count": 35,
   "id": "2329ec95",
   "metadata": {},
   "outputs": [
    {
     "name": "stdout",
     "output_type": "stream",
     "text": [
      "tensor([0., 2., 4., 6.])\n",
      "tensor([True, True, True, True])\n"
     ]
    }
   ],
   "source": [
    "x.grad.zero_()\n",
    "y.sum().backward()\n",
    "print(x.grad)\n",
    "print(x.grad == 2 * x)"
   ]
  },
  {
   "cell_type": "code",
   "execution_count": 214,
   "id": "86180f52",
   "metadata": {},
   "outputs": [
    {
     "name": "stdout",
     "output_type": "stream",
     "text": [
      "tensor(1024.)\n",
      "tensor(True)\n"
     ]
    }
   ],
   "source": [
    "def f(a):\n",
    "    b = a * 2\n",
    "    while b.norm() < 1000:\n",
    "        b = b * 2\n",
    "    if b.sum() > 0:\n",
    "        c = b\n",
    "    else:\n",
    "        c = 100 * b\n",
    "    return c\n",
    "\n",
    "a = torch.randn(size=(), requires_grad=True)\n",
    "d = f(a)\n",
    "d.backward()\n",
    "\n",
    "print(a.grad)\n",
    "print(a.grad == d / a)"
   ]
  }
 ],
 "metadata": {
  "kernelspec": {
   "display_name": "Python 3 (ipykernel)",
   "language": "python",
   "name": "python3"
  },
  "language_info": {
   "codemirror_mode": {
    "name": "ipython",
    "version": 3
   },
   "file_extension": ".py",
   "mimetype": "text/x-python",
   "name": "python",
   "nbconvert_exporter": "python",
   "pygments_lexer": "ipython3",
   "version": "3.9.9"
  }
 },
 "nbformat": 4,
 "nbformat_minor": 5
}
